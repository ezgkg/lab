{
 "cells": [
  {
   "cell_type": "markdown",
   "id": "c1ab8ff3-4169-40c3-80b1-faedc60c470c",
   "metadata": {},
   "source": [
    "# Data Science Tools and Ecosystem"
   ]
  },
  {
   "cell_type": "markdown",
   "id": "16430aa0-60cb-470a-ac02-c7aed111277d",
   "metadata": {},
   "source": [
    "In this notebook, Data Science Tools and Ecosystem are summarized."
   ]
  },
  {
   "cell_type": "markdown",
   "id": "9d660cbb-fc26-40f2-998e-10459e3a0a5f",
   "metadata": {},
   "source": [
    "**Objectives:**\n",
    "* List of popular languages for Data Science\n",
    "* List of popular libraries used in Data Science\n",
    "* Some Data Science tools"
   ]
  },
  {
   "cell_type": "markdown",
   "id": "eb41c2e9-97f3-4c74-a356-9b2b496a5739",
   "metadata": {},
   "source": [
    "Some of the popular languages that Data Scientists use are:\n",
    "1. Python\n",
    "2. R\n",
    "3. Julia\n",
    "4. Scala"
   ]
  },
  {
   "cell_type": "markdown",
   "id": "d031bac4-7ff7-445b-b5c4-7c686a45f3a9",
   "metadata": {},
   "source": [
    "Some of the commonly used libraries used by Data Scientists include:\n",
    "1. TensorFlow\n",
    "2. Pandas\n",
    "3. PyTorch\n",
    "4. Keras"
   ]
  },
  {
   "cell_type": "markdown",
   "id": "976b28ff-3158-4d1d-97ac-15ab043560fd",
   "metadata": {},
   "source": [
    "|Data Science Tools|\n",
    "|------------------|\n",
    "|     RStudio      |\n",
    "|     Jupyter      |\n",
    "|  Apache Zeppelin |\n"
   ]
  },
  {
   "cell_type": "markdown",
   "id": "efb57ede-ba64-42bb-bf6d-78d34e057ffe",
   "metadata": {},
   "source": [
    "### Below are a few examples of evaluating arithmetic expressions in Python"
   ]
  },
  {
   "cell_type": "code",
   "execution_count": 4,
   "id": "61a062f9-0d7c-4918-8ed0-b62706e833c4",
   "metadata": {},
   "outputs": [
    {
     "data": {
      "text/plain": [
       "17"
      ]
     },
     "execution_count": 4,
     "metadata": {},
     "output_type": "execute_result"
    }
   ],
   "source": [
    "# This a simple arithmetic expression to multiply then add integers\n",
    "(3*4)+5"
   ]
  },
  {
   "cell_type": "code",
   "execution_count": 5,
   "id": "9a60b12c-b368-4a27-b0b1-42ca566ab046",
   "metadata": {},
   "outputs": [
    {
     "data": {
      "text/plain": [
       "3.3333333333333335"
      ]
     },
     "execution_count": 5,
     "metadata": {},
     "output_type": "execute_result"
    }
   ],
   "source": [
    "# This will convert 200 minutes to hours by diving by 60\n",
    "200/60"
   ]
  },
  {
   "cell_type": "markdown",
   "id": "2ba7a358-111e-4eb0-b650-5c3a4a96f149",
   "metadata": {},
   "source": [
    "## Author\n",
    "Ezgi Gülşen Akgün"
   ]
  }
 ],
 "metadata": {
  "kernelspec": {
   "display_name": "Python",
   "language": "python",
   "name": "conda-env-python-py"
  },
  "language_info": {
   "codemirror_mode": {
    "name": "ipython",
    "version": 3
   },
   "file_extension": ".py",
   "mimetype": "text/x-python",
   "name": "python",
   "nbconvert_exporter": "python",
   "pygments_lexer": "ipython3",
   "version": "3.7.12"
  }
 },
 "nbformat": 4,
 "nbformat_minor": 5
}
